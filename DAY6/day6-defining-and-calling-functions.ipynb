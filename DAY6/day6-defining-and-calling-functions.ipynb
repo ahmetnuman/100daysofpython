{
 "cells": [
  {
   "cell_type": "code",
   "execution_count": 3,
   "metadata": {},
   "outputs": [
    {
     "name": "stdout",
     "output_type": "stream",
     "text": [
      "Ahmet Numan\n",
      "11\n"
     ]
    }
   ],
   "source": [
    "'''\n",
    "## Functions\n",
    "\n",
    "- Built in fınctions --> https://docs.python.org/3/library/functions.html\n",
    "\n",
    "'''\n",
    "\n",
    "print(\"Ahmet Numan\")\n",
    "num_char = len(\"Ahmet Numan\")\n",
    "print(num_char)"
   ]
  },
  {
   "cell_type": "code",
   "execution_count": 7,
   "metadata": {},
   "outputs": [
    {
     "name": "stdout",
     "output_type": "stream",
     "text": [
      "Hello\n",
      "Bye\n"
     ]
    }
   ],
   "source": [
    "'''\n",
    "## define own your own functions\n",
    "\n",
    "def my_function():\n",
    "    # Do this\n",
    "    # then do this\n",
    "    # finally do this\n",
    "\n",
    "call/execute function\n",
    "\n",
    "my_function()\n",
    "\n",
    "'''\n",
    "\n",
    "def my_function():\n",
    "    print(\"Hello\")\n",
    "    print(\"Bye\")\n",
    "\n",
    "my_function() ## call/execute functions\n"
   ]
  },
  {
   "cell_type": "code",
   "execution_count": 9,
   "metadata": {},
   "outputs": [
    {
     "name": "stdout",
     "output_type": "stream",
     "text": [
      "Hello\n",
      "Bye\n",
      "Hello\n",
      "Bye\n",
      "Hello\n",
      "Bye\n"
     ]
    }
   ],
   "source": [
    "for i in range(1,4):\n",
    "    my_function()\n"
   ]
  },
  {
   "attachments": {},
   "cell_type": "markdown",
   "metadata": {},
   "source": [
    "## Reeborg's World\n",
    "\n",
    "def turn_right():\n",
    "    turn_left()\n",
    "    turn_left()\n",
    "    turn_left()\n",
    "\n",
    "def square():\n",
    "    move()\n",
    "    turn_left()\n",
    "    move()\n",
    "    turn_left()\n",
    "    move()\n",
    "    turn_left()\n",
    "    move()\n",
    "\n",
    "square()"
   ]
  }
 ],
 "metadata": {
  "kernelspec": {
   "display_name": "Python 3",
   "language": "python",
   "name": "python3"
  },
  "language_info": {
   "codemirror_mode": {
    "name": "ipython",
    "version": 3
   },
   "file_extension": ".py",
   "mimetype": "text/x-python",
   "name": "python",
   "nbconvert_exporter": "python",
   "pygments_lexer": "ipython3",
   "version": "3.11.0"
  },
  "orig_nbformat": 4,
  "vscode": {
   "interpreter": {
    "hash": "5238573367df39f7286bb46f9ff5f08f63a01a80960060ce41e3c79b190280fa"
   }
  }
 },
 "nbformat": 4,
 "nbformat_minor": 2
}
