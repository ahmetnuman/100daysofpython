{
 "cells": [
  {
   "cell_type": "code",
   "execution_count": 1,
   "metadata": {},
   "outputs": [
    {
     "name": "stdout",
     "output_type": "stream",
     "text": [
      "17\n",
      "0.4530611186495235\n",
      "2.2653055932476174\n",
      "your love score is 31\n"
     ]
    }
   ],
   "source": [
    "import random\n",
    "\n",
    "## Create Random Integer\n",
    "\n",
    "random_integer = random.randint(1,100)\n",
    "print(random_integer)\n",
    "\n",
    "# how to create our own module?\n",
    "# just write a new python code to new file then call it from main.py\n",
    "\n",
    "\n",
    "## Create random Floting number between 0 and 1\n",
    "\n",
    "random_float = random.random()\n",
    "print(random_float)\n",
    "\n",
    "## Create random Floting number between 0 and 5\n",
    "\n",
    "print(5*random_float)  \n",
    "\n",
    "love_score = random.randint(1,100)\n",
    "print(f\"your love score is {love_score}\")"
   ]
  }
 ],
 "metadata": {
  "kernelspec": {
   "display_name": "Python 3",
   "language": "python",
   "name": "python3"
  },
  "language_info": {
   "codemirror_mode": {
    "name": "ipython",
    "version": 3
   },
   "file_extension": ".py",
   "mimetype": "text/x-python",
   "name": "python",
   "nbconvert_exporter": "python",
   "pygments_lexer": "ipython3",
   "version": "3.11.0"
  },
  "orig_nbformat": 4,
  "vscode": {
   "interpreter": {
    "hash": "5238573367df39f7286bb46f9ff5f08f63a01a80960060ce41e3c79b190280fa"
   }
  }
 },
 "nbformat": 4,
 "nbformat_minor": 2
}
