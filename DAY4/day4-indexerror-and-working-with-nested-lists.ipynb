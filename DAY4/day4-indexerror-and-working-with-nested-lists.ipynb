{
 "cells": [
  {
   "cell_type": "code",
   "execution_count": 5,
   "metadata": {},
   "outputs": [
    {
     "name": "stdout",
     "output_type": "stream",
     "text": [
      "5\n",
      "Adana\n",
      "5\n"
     ]
    }
   ],
   "source": [
    "cities = [\"Istanbul\", \"Ankara\", \"Kahramanmaras\", \"Izmir\", \"Adana\"]\n",
    "print(len(cities))\n",
    "print(cities[4])\n",
    "# print(cities[5]) # will be produce IndexError\n",
    "num_of_cities = len(cities)\n",
    "print(cities(num_of_cities))"
   ]
  }
 ],
 "metadata": {
  "kernelspec": {
   "display_name": "Python 3",
   "language": "python",
   "name": "python3"
  },
  "language_info": {
   "codemirror_mode": {
    "name": "ipython",
    "version": 3
   },
   "file_extension": ".py",
   "mimetype": "text/x-python",
   "name": "python",
   "nbconvert_exporter": "python",
   "pygments_lexer": "ipython3",
   "version": "3.11.0"
  },
  "orig_nbformat": 4,
  "vscode": {
   "interpreter": {
    "hash": "5238573367df39f7286bb46f9ff5f08f63a01a80960060ce41e3c79b190280fa"
   }
  }
 },
 "nbformat": 4,
 "nbformat_minor": 2
}
