{
 "cells": [
  {
   "cell_type": "code",
   "execution_count": 8,
   "metadata": {},
   "outputs": [
    {
     "name": "stdout",
     "output_type": "stream",
     "text": [
      "5\n",
      "Adana\n",
      "Adana\n"
     ]
    }
   ],
   "source": [
    "cities = [\"Istanbul\", \"Ankara\", \"Kahramanmaras\", \"Izmir\", \"Adana\"]\n",
    "print(len(cities))\n",
    "print(cities[4])\n",
    "# print(cities[5]) # will be produce IndexError\n",
    "num_of_cities = len(cities)\n",
    "# print(cities[num_of_cities]) # will be produce IndexError again\n",
    "print(cities[num_of_cities - 1])"
   ]
  },
  {
   "cell_type": "code",
   "execution_count": 9,
   "metadata": {},
   "outputs": [
    {
     "name": "stdout",
     "output_type": "stream",
     "text": [
      "[['Strawberries', 'Nectarines', 'Apples', 'Grapes', 'Peaches', 'Cherries', 'Pears'], ['Spinach', 'Kale', 'Tomatoes', 'Celery', 'Potatoes']]\n"
     ]
    }
   ],
   "source": [
    "# dirty_dozen = [\"Strawberries\",\"Spinach\",\"Kale\",\"Nectarines\",\"Apples\",\"Grapes\",\"Peaches\",\"Cherries\",\"Pears\",\"Tomatoes\",\"Celery\",\"Patotoes\"]\n",
    "\n",
    "fruits = [\"Strawberries\",\"Nectarines\",\"Apples\",\"Grapes\",\"Peaches\",\"Cherries\",\"Pears\"]\n",
    "vegatables = [\"Spinach\",\"Kale\",\"Tomatoes\",\"Celery\",\"Potatoes\"]\n",
    "\n",
    "dirty_dozen = [fruits, vegatables]\n",
    "\n",
    "print(dirty_dozen)"
   ]
  }
 ],
 "metadata": {
  "kernelspec": {
   "display_name": "Python 3",
   "language": "python",
   "name": "python3"
  },
  "language_info": {
   "codemirror_mode": {
    "name": "ipython",
    "version": 3
   },
   "file_extension": ".py",
   "mimetype": "text/x-python",
   "name": "python",
   "nbconvert_exporter": "python",
   "pygments_lexer": "ipython3",
   "version": "3.11.0 (main, Oct 24 2022, 18:26:48) [MSC v.1933 64 bit (AMD64)]"
  },
  "orig_nbformat": 4,
  "vscode": {
   "interpreter": {
    "hash": "5238573367df39f7286bb46f9ff5f08f63a01a80960060ce41e3c79b190280fa"
   }
  }
 },
 "nbformat": 4,
 "nbformat_minor": 2
}
