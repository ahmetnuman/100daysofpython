{
 "cells": [
  {
   "cell_type": "code",
   "execution_count": null,
   "metadata": {},
   "outputs": [],
   "source": [
    "# Lists = data Structure, store more then one variable-data\n",
    "\n",
    "a = 3\n",
    "b = \"hello\"\n",
    "\n",
    "# or \n",
    "\n",
    "sample_list = [3, \"hello\"]\n",
    "\n",
    "cities = [\"Ankara\", \"Istanbul\", \"Kahramanmaras\", \"Adana\", \"Izmır\"]\n",
    "\n",
    "fruits = [\"Apple\", \"Banana\", \"Cherry\"]"
   ]
  },
  {
   "cell_type": "code",
   "execution_count": 9,
   "metadata": {},
   "outputs": [
    {
     "name": "stdout",
     "output_type": "stream",
     "text": [
      "['Delaware', 'Pennsylvania', 'New jersey']\n",
      "Delaware\n",
      "Pennsylvania\n",
      "New jersey\n",
      "New jersey\n",
      "Pennsylvania\n",
      "Delaware\n",
      "['Delaware', 'Pencilvania', 'New jersey']\n",
      "['Delaware', 'Pencilvania', 'New jersey', 'Angelaland']\n",
      "['Delaware', 'Pencilvania', 'New jersey', 'Angelaland', 'Angelaland2', 'Jack Bauer land']\n"
     ]
    }
   ],
   "source": [
    "states_of_america = [\"Delaware\", \"Pennsylvania\", \"New jersey\"]\n",
    "\n",
    "print(states_of_america)\n",
    "print(states_of_america[0])\n",
    "print(states_of_america[1])\n",
    "print(states_of_america[2])\n",
    "\n",
    "## Negative index\n",
    "print(states_of_america[-1])\n",
    "print(states_of_america[-2])\n",
    "print(states_of_america[-3])\n",
    "\n",
    "states_of_america[1] = \"Pencilvania\"\n",
    "\n",
    "print(states_of_america)\n",
    "\n",
    "\n",
    "## append function\n",
    "states_of_america.append(\"Angelaland\")\n",
    "\n",
    "print(states_of_america)\n",
    "\n",
    "## Extend function\n",
    "\n",
    "states_of_america.extend([\"Angelaland2\",\"Jack Bauer land\"])\n",
    "print(states_of_america)\n",
    "\n"
   ]
  }
 ],
 "metadata": {
  "kernelspec": {
   "display_name": "Python 3",
   "language": "python",
   "name": "python3"
  },
  "language_info": {
   "codemirror_mode": {
    "name": "ipython",
    "version": 3
   },
   "file_extension": ".py",
   "mimetype": "text/x-python",
   "name": "python",
   "nbconvert_exporter": "python",
   "pygments_lexer": "ipython3",
   "version": "3.11.0 (main, Oct 24 2022, 18:26:48) [MSC v.1933 64 bit (AMD64)]"
  },
  "orig_nbformat": 4,
  "vscode": {
   "interpreter": {
    "hash": "5238573367df39f7286bb46f9ff5f08f63a01a80960060ce41e3c79b190280fa"
   }
  }
 },
 "nbformat": 4,
 "nbformat_minor": 2
}
