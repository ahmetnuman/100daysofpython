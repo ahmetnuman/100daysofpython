{
 "cells": [
  {
   "attachments": {},
   "cell_type": "markdown",
   "metadata": {},
   "source": [
    "## Rock Paper Scissors\n",
    "\n",
    "#### Instructions\n",
    "\n",
    "**Make a rock, paper, scissors game.**\n",
    "\n",
    "Inside the main.py file, you'll find the ASCII art for the hand signals already saved to a corresponding variable: rock, paper, and scissors. This will make it easy to print them out to the console.\n",
    "\n",
    "Start the game by asking the player:\n",
    "\n",
    "\"What do you choose? Type 0 for Rock, 1 for Paper or 2 for Scissors.\"\n",
    "\n",
    "From there you will need to figure out:\n",
    "\n",
    "    How you will store the user's input.\n",
    "    How you will generate a random choice for the computer.\n",
    "    How you will compare the user's and the computer's choice to determine the winner (or a draw).\n",
    "    And also how you will give feedback to the player.\n"
   ]
  },
  {
   "cell_type": "code",
   "execution_count": null,
   "metadata": {},
   "outputs": [],
   "source": [
    "import random\n",
    "\n",
    "rock = '''\n",
    "    _______\n",
    "---'   ____)\n",
    "      (_____)\n",
    "      (_____)\n",
    "      (____)\n",
    "---.__(___)\n",
    "'''\n",
    "\n",
    "paper = '''\n",
    "    _______\n",
    "---'   ____)____\n",
    "          ______)\n",
    "          _______)\n",
    "         _______)\n",
    "---.__________)\n",
    "'''\n",
    "\n",
    "scissors = '''\n",
    "    _______\n",
    "---'   ____)____\n",
    "          ______)\n",
    "       __________)\n",
    "      (____)\n",
    "---.__(___)\n",
    "'''\n",
    "\n",
    "#Write your code below this line 👇\n",
    "\n",
    "choose_people = input(\"What do you choose? Type 0 for Rock, 1 for Paper or 2 for Scissors.\\n\")\n",
    "choose_computer = random.randint(0,2)\n",
    "\n",
    "print(choose_people)\n",
    "print(choose_computer)\n",
    "\n"
   ]
  }
 ],
 "metadata": {
  "language_info": {
   "name": "python"
  },
  "orig_nbformat": 4
 },
 "nbformat": 4,
 "nbformat_minor": 2
}
