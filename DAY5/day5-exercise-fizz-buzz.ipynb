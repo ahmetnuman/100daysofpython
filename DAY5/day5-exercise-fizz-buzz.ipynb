{
 "cells": [
  {
   "cell_type": "code",
   "execution_count": null,
   "metadata": {},
   "outputs": [],
   "source": [
    "'''\n",
    "Instructions\n",
    "\n",
    "You are going to write a program that automatically prints the solution to the FizzBuzz game.\n",
    "\n",
    "    Your program should print each number from 1 to 100 in turn.\n",
    "\n",
    "    When the number is divisible by 3 then instead of printing the number it should print \"Fizz\".\n",
    "\n",
    "    When the number is divisible by 5, then instead of printing the number it should print \"Buzz\".`\n",
    "\n",
    "      And if the number is divisible by both 3 and 5 e.g. 15 then instead of the number it should print \"FizzBuzz\"\n",
    "\n",
    "'''\n",
    "for i in range(1,101):\n",
    "    if i % 15 == 0:\n",
    "        print(\"FizzBuzz\")\n",
    "    elif i % 3 == 0:\n",
    "        print(\"Fizz\")\n",
    "    elif i % 5 == 0:\n",
    "        print(\"Buzz\")\n",
    "    else:\n",
    "        print(i)        \n",
    "\n",
    "\n"
   ]
  }
 ],
 "metadata": {
  "language_info": {
   "name": "python"
  },
  "orig_nbformat": 4
 },
 "nbformat": 4,
 "nbformat_minor": 2
}
