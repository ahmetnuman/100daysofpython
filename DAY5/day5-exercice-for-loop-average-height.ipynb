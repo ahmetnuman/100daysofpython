{
 "cells": [
  {
   "cell_type": "code",
   "execution_count": 8,
   "metadata": {},
   "outputs": [
    {
     "name": "stdout",
     "output_type": "stream",
     "text": [
      "169\n"
     ]
    }
   ],
   "source": [
    "'''\n",
    "Instructions\n",
    "\n",
    "You are going to write a program that calculates the average student height from a List of heights.\n",
    "\n",
    "e.g. student_heights = [180, 124, 165, 173, 189, 169, 146]\n",
    "\n",
    "The average height can be calculated by adding all the heights together and dividing by the total number of heights.\n",
    "\n",
    "e.g.\n",
    "\n",
    "180 + 124 + 165 + 173 + 189 + 169 + 146 = 1146\n",
    "\n",
    "There are a total of 7 heights in student_heights\n",
    "\n",
    "1146 ÷ 7 = 163.71428571428572\n",
    "\n",
    "Average height rounded to the nearest whole number = 164\n",
    "\n",
    "Important You should not use the sum() or len() functions in your answer. You should try to replicate their functionality using what you have learnt about for loops.\n",
    "\n",
    "'''\n",
    "\n",
    "# 🚨 Don't change the code below 👇\n",
    "student_heights = input(\"Input a list of student heights \").split()\n",
    "for n in range(0, len(student_heights)):\n",
    "  student_heights[n] = int(student_heights[n])\n",
    "# 🚨 Don't change the code above 👆\n",
    "\n",
    "\n",
    "#Write your code below this row 👇\n",
    "\n",
    "total_heights = 0\n",
    "number_of_student = 0\n",
    "for height in student_heights:\n",
    "    total_heights = total_heights + height\n",
    "    number_of_student = number_of_student + 1\n",
    "print(round(total_heights/number_of_student))    \n",
    "\n",
    "\n"
   ]
  }
 ],
 "metadata": {
  "kernelspec": {
   "display_name": "Python 3",
   "language": "python",
   "name": "python3"
  },
  "language_info": {
   "codemirror_mode": {
    "name": "ipython",
    "version": 3
   },
   "file_extension": ".py",
   "mimetype": "text/x-python",
   "name": "python",
   "nbconvert_exporter": "python",
   "pygments_lexer": "ipython3",
   "version": "3.11.0 (main, Oct 24 2022, 18:26:48) [MSC v.1933 64 bit (AMD64)]"
  },
  "orig_nbformat": 4,
  "vscode": {
   "interpreter": {
    "hash": "5238573367df39f7286bb46f9ff5f08f63a01a80960060ce41e3c79b190280fa"
   }
  }
 },
 "nbformat": 4,
 "nbformat_minor": 2
}
