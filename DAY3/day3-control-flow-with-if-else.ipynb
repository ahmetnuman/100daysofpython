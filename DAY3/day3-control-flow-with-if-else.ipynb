{
 "cells": [
  {
   "cell_type": "code",
   "execution_count": 5,
   "metadata": {},
   "outputs": [
    {
     "name": "stdout",
     "output_type": "stream",
     "text": [
      "Drain water\n"
     ]
    }
   ],
   "source": [
    "# Conditional if/else\n",
    "'''\n",
    "if condition:\n",
    "    do this\n",
    "else:\n",
    "    do this    \n",
    "'''\n",
    "\n",
    "water_level = 100\n",
    "if water_level > 80:\n",
    "    print(\"Drain water\")"
   ]
  },
  {
   "cell_type": "code",
   "execution_count": 8,
   "metadata": {},
   "outputs": [
    {
     "name": "stdout",
     "output_type": "stream",
     "text": [
      "Welcome to the rollercoaster!\n",
      "You can ride the rollercoaster\n"
     ]
    }
   ],
   "source": [
    "print(\"Welcome to the rollercoaster!\")\n",
    "height = int(input(\"What is your height in cm?\\n\"))\n",
    "if height >= 120:\n",
    "    print(\"You can ride the rollercoaster\")\n",
    "else:\n",
    "    print(\"You can not ride the rollercoaster!\")\n"
   ]
  },
  {
   "attachments": {},
   "cell_type": "markdown",
   "metadata": {},
   "source": [
    "## Comparison Operators\n",
    "\n",
    "\n",
    "| Operator    | Meaning     |\n",
    "| ----------- | ----------- |\n",
    "| >           | Greater Than|\n",
    "| <           | Less than   |\n",
    "| >=          | greater than or equal to |\n",
    "| <=          | Less than or equal to  |\n",
    "| ==          | equal to  |\n",
    "| !=          | not equal to |"
   ]
  }
 ],
 "metadata": {
  "kernelspec": {
   "display_name": "Python 3",
   "language": "python",
   "name": "python3"
  },
  "language_info": {
   "codemirror_mode": {
    "name": "ipython",
    "version": 3
   },
   "file_extension": ".py",
   "mimetype": "text/x-python",
   "name": "python",
   "nbconvert_exporter": "python",
   "pygments_lexer": "ipython3",
   "version": "3.11.0 (main, Oct 24 2022, 18:26:48) [MSC v.1933 64 bit (AMD64)]"
  },
  "orig_nbformat": 4,
  "vscode": {
   "interpreter": {
    "hash": "5238573367df39f7286bb46f9ff5f08f63a01a80960060ce41e3c79b190280fa"
   }
  }
 },
 "nbformat": 4,
 "nbformat_minor": 2
}
