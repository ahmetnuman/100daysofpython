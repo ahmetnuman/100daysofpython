{
 "cells": [
  {
   "cell_type": "code",
   "execution_count": 5,
   "metadata": {},
   "outputs": [
    {
     "name": "stdout",
     "output_type": "stream",
     "text": [
      "Welcome to the Love Calculator!\n",
      "Your score is 53.\n"
     ]
    }
   ],
   "source": [
    "# 🚨 Don't change the code below 👇\n",
    "print(\"Welcome to the Love Calculator!\")\n",
    "name1 = input(\"What is your name? \\n\")\n",
    "name2 = input(\"What is their name? \\n\")\n",
    "# 🚨 Don't change the code above 👆\n",
    "\n",
    "#Write your code below this line 👇\n",
    "\n",
    "total_name = (name1 + name2).lower()\n",
    "\n",
    "t_true = \"true\"\n",
    "love = \"love\"\n",
    "\n",
    "t= total_name.count(t_true[0])\n",
    "r= total_name.count(t_true[1])\n",
    "u= total_name.count(t_true[2])\n",
    "e= total_name.count(t_true[3])\n",
    "\n",
    "l = total_name.count(love[0])\n",
    "o = total_name.count(love[1])\n",
    "v = total_name.count(love[2])\n",
    "e = total_name.count(love[3])\n",
    "\n",
    "\n",
    "first_line = t + r + u + e\n",
    "second_line = l + o + v + e\n",
    "total_score = int(str(first_line) + str(second_line))\n",
    "\n",
    "if total_score < 10 or total_score > 90:\n",
    "    print(f\"Your score is {total_score}, you go together like coke and mentos.\")\n",
    "elif total_score > 40 and total_score < 50:\n",
    "    print(f\"Your score is {total_score}, you are alright together.\")\n",
    "else:\n",
    "    print(f\"Your score is {total_score}.\")        "
   ]
  }
 ],
 "metadata": {
  "kernelspec": {
   "display_name": "Python 3",
   "language": "python",
   "name": "python3"
  },
  "language_info": {
   "codemirror_mode": {
    "name": "ipython",
    "version": 3
   },
   "file_extension": ".py",
   "mimetype": "text/x-python",
   "name": "python",
   "nbconvert_exporter": "python",
   "pygments_lexer": "ipython3",
   "version": "3.11.0 (main, Oct 24 2022, 18:26:48) [MSC v.1933 64 bit (AMD64)]"
  },
  "orig_nbformat": 4,
  "vscode": {
   "interpreter": {
    "hash": "5238573367df39f7286bb46f9ff5f08f63a01a80960060ce41e3c79b190280fa"
   }
  }
 },
 "nbformat": 4,
 "nbformat_minor": 2
}
