{
 "cells": [
  {
   "attachments": {},
   "cell_type": "markdown",
   "metadata": {},
   "source": [
    "## Instructions\n",
    "\n",
    "**Write a program that interprets the Body Mass Index (BMI) based on a user's weight and height.**\n",
    "\n",
    "It should tell them the interpretation of their BMI based on the BMI value.\n",
    "\n",
    "   - Under 18.5 they are underweight\n",
    "   - Over 18.5 but below 25 they have a normal weight\n",
    "   - Over 25 but below 30 they are slightly overweight\n",
    "   - Over 30 but below 35 they are obese\n",
    "   - Above 35 they are clinically obese.\n",
    "\n",
    "bmi = weight (kg) / (height**2 (m))   \n"
   ]
  },
  {
   "cell_type": "code",
   "execution_count": 24,
   "metadata": {},
   "outputs": [
    {
     "name": "stdout",
     "output_type": "stream",
     "text": [
      "Your BMI is 27, you are slightly overweight\n"
     ]
    }
   ],
   "source": [
    "# 🚨 Don't change the code below 👇\n",
    "height = float(input(\"enter your height in m: \"))\n",
    "weight = float(input(\"enter your weight in kg: \"))\n",
    "# 🚨 Don't change the code above 👆\n",
    "\n",
    "#Write your code below this line 👇\n",
    "\n",
    "bmi = (weight / (height**2))\n",
    "\n",
    "if bmi < 18.5 :\n",
    "    print(f\"Your BMI is {round(bmi)}, you are underweight.\")\n",
    "elif bmi > 18.5 and bmi <= 25:    \n",
    "    print(f\"Your BMI is {round(bmi)}, you have a normal weight.\")\n",
    "elif bmi > 25 and bmi <= 30:\n",
    "    print(f\"Your BMI is {round(bmi)}, you are slightly overweight\")\n",
    "elif bmi > 30 and bmi <= 35:\n",
    "    print(f\"Your BMI is {round(bmi)}, you are obese.\")\n",
    "else:\n",
    "    print(f\"Your BMI is {round(bmi)}, you are clinically obese.\")\n",
    "    \n",
    "\n",
    "  \n",
    "\n",
    "\n",
    "\n"
   ]
  }
 ],
 "metadata": {
  "kernelspec": {
   "display_name": "Python 3",
   "language": "python",
   "name": "python3"
  },
  "language_info": {
   "codemirror_mode": {
    "name": "ipython",
    "version": 3
   },
   "file_extension": ".py",
   "mimetype": "text/x-python",
   "name": "python",
   "nbconvert_exporter": "python",
   "pygments_lexer": "ipython3",
   "version": "3.11.0"
  },
  "orig_nbformat": 4,
  "vscode": {
   "interpreter": {
    "hash": "5238573367df39f7286bb46f9ff5f08f63a01a80960060ce41e3c79b190280fa"
   }
  }
 },
 "nbformat": 4,
 "nbformat_minor": 2
}
