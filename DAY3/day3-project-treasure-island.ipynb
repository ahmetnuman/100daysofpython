{
 "cells": [
  {
   "cell_type": "code",
   "execution_count": 1,
   "metadata": {},
   "outputs": [
    {
     "name": "stdout",
     "output_type": "stream",
     "text": [
      "Welcome to treasure island. Your mission is to find the treasure.\n",
      "Game over\n"
     ]
    }
   ],
   "source": [
    "print(\"Welcome to treasure island. Your mission is to find the treasure.\")\n",
    "direction = input(\"left or right?\\n\")\n",
    "if direction == \"left\":\n",
    "    s_w = input(\"swim or wait?\\n\")\n",
    "    if s_w == \"wait\":\n",
    "        door = input(\"Which door?\\n Blue , red or yellow?\")\n",
    "        if door == \"Yellow\":\n",
    "            print(\"You Win!\")\n",
    "        else:\n",
    "            print(\"Game over\")    \n",
    "    else:\n",
    "        print(\"Game over\")    \n",
    "else:\n",
    "    print(\"Game over\")    "
   ]
  }
 ],
 "metadata": {
  "kernelspec": {
   "display_name": "Python 3",
   "language": "python",
   "name": "python3"
  },
  "language_info": {
   "codemirror_mode": {
    "name": "ipython",
    "version": 3
   },
   "file_extension": ".py",
   "mimetype": "text/x-python",
   "name": "python",
   "nbconvert_exporter": "python",
   "pygments_lexer": "ipython3",
   "version": "3.11.0"
  },
  "orig_nbformat": 4,
  "vscode": {
   "interpreter": {
    "hash": "5238573367df39f7286bb46f9ff5f08f63a01a80960060ce41e3c79b190280fa"
   }
  }
 },
 "nbformat": 4,
 "nbformat_minor": 2
}
